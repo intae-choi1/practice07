{
 "cells": [
  {
   "cell_type": "markdown",
   "id": "b2adb21a",
   "metadata": {},
   "source": [
    "# 2. Multiple Linear Regression"
   ]
  },
  {
   "cell_type": "markdown",
   "id": "059a42af",
   "metadata": {},
   "source": [
    "### 원-핫 인코딩\n"
   ]
  },
  {
   "cell_type": "code",
   "execution_count": 1,
   "id": "4f066007",
   "metadata": {},
   "outputs": [
    {
     "data": {
      "text/plain": [
       "array([[0.5, 3, 'Home'],\n",
       "       [1.2, 4, 'Library'],\n",
       "       [1.8, 2, 'Cafe'],\n",
       "       [2.4, 0, 'Cafe'],\n",
       "       [2.6, 2, 'Home'],\n",
       "       [3.2, 0, 'Home'],\n",
       "       [3.9, 0, 'Library'],\n",
       "       [4.4, 0, 'Library'],\n",
       "       [4.5, 5, 'Home'],\n",
       "       [5.0, 1, 'Cafe'],\n",
       "       [5.3, 2, 'Cafe'],\n",
       "       [5.8, 0, 'Cafe'],\n",
       "       [6.0, 3, 'Library'],\n",
       "       [6.1, 1, 'Cafe'],\n",
       "       [6.2, 1, 'Library'],\n",
       "       [6.9, 4, 'Home'],\n",
       "       [7.2, 2, 'Cafe'],\n",
       "       [8.4, 1, 'Home'],\n",
       "       [8.6, 1, 'Library'],\n",
       "       [10.0, 0, 'Library']], dtype=object)"
      ]
     },
     "execution_count": 1,
     "metadata": {},
     "output_type": "execute_result"
    }
   ],
   "source": [
    "\n",
    "import pandas as pd\n",
    "dataset = pd.read_csv(\"MultipleLinearRegressionData.csv\")\n",
    "X = dataset.iloc[:, :-1].values\n",
    "y = dataset.iloc[:, -1].values\n",
    "X"
   ]
  },
  {
   "cell_type": "code",
   "execution_count": 3,
   "id": "69a68cd3",
   "metadata": {},
   "outputs": [
    {
     "data": {
      "text/plain": [
       "array([[1.0, 0.0, 0.5, 3],\n",
       "       [0.0, 1.0, 1.2, 4],\n",
       "       [0.0, 0.0, 1.8, 2],\n",
       "       [0.0, 0.0, 2.4, 0],\n",
       "       [1.0, 0.0, 2.6, 2],\n",
       "       [1.0, 0.0, 3.2, 0],\n",
       "       [0.0, 1.0, 3.9, 0],\n",
       "       [0.0, 1.0, 4.4, 0],\n",
       "       [1.0, 0.0, 4.5, 5],\n",
       "       [0.0, 0.0, 5.0, 1],\n",
       "       [0.0, 0.0, 5.3, 2],\n",
       "       [0.0, 0.0, 5.8, 0],\n",
       "       [0.0, 1.0, 6.0, 3],\n",
       "       [0.0, 0.0, 6.1, 1],\n",
       "       [0.0, 1.0, 6.2, 1],\n",
       "       [1.0, 0.0, 6.9, 4],\n",
       "       [0.0, 0.0, 7.2, 2],\n",
       "       [1.0, 0.0, 8.4, 1],\n",
       "       [0.0, 1.0, 8.6, 1],\n",
       "       [0.0, 1.0, 10.0, 0]], dtype=object)"
      ]
     },
     "execution_count": 3,
     "metadata": {},
     "output_type": "execute_result"
    }
   ],
   "source": [
    "from sklearn.compose import ColumnTransformer\n",
    "from sklearn.preprocessing import OneHotEncoder\n",
    "# ('encoder', 원핫 인코더의 첫번째 컬럼을 드롭하겠다, [2]번 컬럼에 대해서 적용하겠다), 나머지는 그대로 두겠다 = passthrough\n",
    "ct = ColumnTransformer(transformers=[('encoder', OneHotEncoder(drop='first'), [2])], remainder='passthrough')\n",
    "X = ct.fit_transform(X)\n",
    "X\n",
    "\n",
    "# 1 0 : Home\n",
    "# 0 1 : Library\n",
    "# 0 0 : Cafe"
   ]
  },
  {
   "cell_type": "markdown",
   "id": "4005e8e6",
   "metadata": {},
   "source": [
    "### 데이터 세트 분리\n"
   ]
  },
  {
   "cell_type": "code",
   "execution_count": 4,
   "id": "b69f0b0d",
   "metadata": {},
   "outputs": [],
   "source": [
    "from sklearn.model_selection import train_test_split\n",
    "X_train, X_test, y_train, y_test = train_test_split(X, y, test_size=0.2, random_state=0)"
   ]
  },
  {
   "cell_type": "markdown",
   "id": "f707c5ad",
   "metadata": {},
   "source": [
    "### 학습 (다중 선형 회귀)"
   ]
  },
  {
   "cell_type": "code",
   "execution_count": 6,
   "id": "c387f7df",
   "metadata": {},
   "outputs": [
    {
     "data": {
      "text/plain": [
       "LinearRegression()"
      ]
     },
     "execution_count": 6,
     "metadata": {},
     "output_type": "execute_result"
    }
   ],
   "source": [
    "from sklearn.linear_model import LinearRegression\n",
    "reg = LinearRegression()\n",
    "reg.fit(X_train, y_train)"
   ]
  },
  {
   "cell_type": "markdown",
   "id": "333d7437",
   "metadata": {},
   "source": [
    "### 예측 값과 실제 값 비교 (테스트 세트)"
   ]
  },
  {
   "cell_type": "code",
   "execution_count": 7,
   "id": "38a04e94",
   "metadata": {},
   "outputs": [
    {
     "data": {
      "text/plain": [
       "array([ 92.15457859,  10.23753043, 108.36245302,  38.14675204])"
      ]
     },
     "execution_count": 7,
     "metadata": {},
     "output_type": "execute_result"
    }
   ],
   "source": [
    "y_pred = reg.predict(X_test)\n",
    "y_pred"
   ]
  },
  {
   "cell_type": "code",
   "execution_count": 8,
   "id": "02d8390d",
   "metadata": {},
   "outputs": [
    {
     "data": {
      "text/plain": [
       "array([ 90,   8, 100,  38], dtype=int64)"
      ]
     },
     "execution_count": 8,
     "metadata": {},
     "output_type": "execute_result"
    }
   ],
   "source": [
    "y_test"
   ]
  },
  {
   "cell_type": "code",
   "execution_count": 9,
   "id": "4cac5e2a",
   "metadata": {},
   "outputs": [
    {
     "data": {
      "text/plain": [
       "array([-5.82712824, -1.04450647, 10.40419528, -1.64200104])"
      ]
     },
     "execution_count": 9,
     "metadata": {},
     "output_type": "execute_result"
    }
   ],
   "source": [
    "reg.coef_\n",
    "# 집 도서관 (카페) 시간 결석\n",
    "# 집에서하면 -5.8점 도서관 -1점 카페 0점 시간당 10점 결석당 -1.6점"
   ]
  },
  {
   "cell_type": "code",
   "execution_count": 10,
   "id": "35362d06",
   "metadata": {},
   "outputs": [
    {
     "data": {
      "text/plain": [
       "5.365006706544733"
      ]
     },
     "execution_count": 10,
     "metadata": {},
     "output_type": "execute_result"
    }
   ],
   "source": [
    "reg.intercept_"
   ]
  },
  {
   "cell_type": "code",
   "execution_count": 12,
   "id": "781717dd",
   "metadata": {},
   "outputs": [
    {
     "data": {
      "text/plain": [
       "0.9623352565265528"
      ]
     },
     "execution_count": 12,
     "metadata": {},
     "output_type": "execute_result"
    }
   ],
   "source": [
    "reg.score(X_train, y_train) # 훈련 셋"
   ]
  },
  {
   "cell_type": "code",
   "execution_count": 13,
   "id": "92518855",
   "metadata": {},
   "outputs": [
    {
     "data": {
      "text/plain": [
       "0.9859956178877445"
      ]
     },
     "execution_count": 13,
     "metadata": {},
     "output_type": "execute_result"
    }
   ],
   "source": [
    "reg.score(X_test, y_test) # 테스트 셋"
   ]
  },
  {
   "cell_type": "markdown",
   "id": "43afeef4",
   "metadata": {},
   "source": [
    "### 평가 지표 (회귀 모델)\n",
    "\n",
    "1. MAE (Mean Absoulte Error) : (실제 값과 예측값) 차이의 절대 값 (의 평균)\n",
    "2. MSE (Mean Squared Error) : 차이의 제곱\n",
    "3. RMSE (Root Mean Squared Error) : 차이의 제곱에 루트\n",
    "4. R2: 결정 계수\n",
    ">> R2는 1에 가까울 수록, 나머지는 0에 가까울 수록 좋음"
   ]
  },
  {
   "cell_type": "code",
   "execution_count": 20,
   "id": "f7e2b895",
   "metadata": {},
   "outputs": [
    {
     "data": {
      "text/plain": [
       "3.225328518828811"
      ]
     },
     "execution_count": 20,
     "metadata": {},
     "output_type": "execute_result"
    }
   ],
   "source": [
    "from sklearn.metrics import mean_absolute_error, mean_squared_error, r2_score\n",
    "# 실제 값, 예측 값\n",
    "mean_absolute_error(y_test, y_pred)"
   ]
  },
  {
   "cell_type": "code",
   "execution_count": 17,
   "id": "7c4ecc0f",
   "metadata": {},
   "outputs": [
    {
     "data": {
      "text/plain": [
       "19.90022698151514"
      ]
     },
     "execution_count": 17,
     "metadata": {},
     "output_type": "execute_result"
    }
   ],
   "source": [
    "mean_squared_error(y_test, y_pred)"
   ]
  },
  {
   "cell_type": "code",
   "execution_count": 18,
   "id": "4add213a",
   "metadata": {},
   "outputs": [
    {
     "data": {
      "text/plain": [
       "4.460967045553591"
      ]
     },
     "execution_count": 18,
     "metadata": {},
     "output_type": "execute_result"
    }
   ],
   "source": [
    "mean_squared_error(y_test, y_pred, squared=False) # RMSE"
   ]
  },
  {
   "cell_type": "code",
   "execution_count": 21,
   "id": "94c2caa2",
   "metadata": {},
   "outputs": [
    {
     "data": {
      "text/plain": [
       "0.9859956178877445"
      ]
     },
     "execution_count": 21,
     "metadata": {},
     "output_type": "execute_result"
    }
   ],
   "source": [
    "r2_score(y_test, y_pred)\n",
    "# 참고: Linear Regression .score()는 r2_score()이다"
   ]
  },
  {
   "cell_type": "code",
   "execution_count": null,
   "id": "bda158b3",
   "metadata": {},
   "outputs": [],
   "source": []
  }
 ],
 "metadata": {
  "kernelspec": {
   "display_name": "Python 3.9.12 ('base')",
   "language": "python",
   "name": "python3"
  },
  "language_info": {
   "codemirror_mode": {
    "name": "ipython",
    "version": 3
   },
   "file_extension": ".py",
   "mimetype": "text/x-python",
   "name": "python",
   "nbconvert_exporter": "python",
   "pygments_lexer": "ipython3",
   "version": "3.9.12"
  },
  "vscode": {
   "interpreter": {
    "hash": "e4cce46d6be9934fbd27f9ca0432556941ea5bdf741d4f4d64c6cd7f8dfa8fba"
   }
  }
 },
 "nbformat": 4,
 "nbformat_minor": 5
}
